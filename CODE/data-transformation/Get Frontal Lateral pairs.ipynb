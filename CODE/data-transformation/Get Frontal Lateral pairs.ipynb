{
 "cells": [
  {
   "cell_type": "code",
   "execution_count": 1,
   "metadata": {},
   "outputs": [],
   "source": [
    "import pandas as pd\n",
    "import numpy as np\n",
    "\n",
    "#1= positive; 0: negetive; -1: uncertain\n",
    "trainDF = pd.read_csv('CheXpert-v1.0-small/train.csv', dtype=str)\n",
    "trainDF = trainDF.fillna(value = '0.0')\n",
    "\n",
    "# 223414 entries in CSV"
   ]
  },
  {
   "cell_type": "code",
   "execution_count": 2,
   "metadata": {},
   "outputs": [
    {
     "data": {
      "text/html": [
       "<div>\n",
       "<style scoped>\n",
       "    .dataframe tbody tr th:only-of-type {\n",
       "        vertical-align: middle;\n",
       "    }\n",
       "\n",
       "    .dataframe tbody tr th {\n",
       "        vertical-align: top;\n",
       "    }\n",
       "\n",
       "    .dataframe thead th {\n",
       "        text-align: right;\n",
       "    }\n",
       "</style>\n",
       "<table border=\"1\" class=\"dataframe\">\n",
       "  <thead>\n",
       "    <tr style=\"text-align: right;\">\n",
       "      <th></th>\n",
       "      <th>0</th>\n",
       "      <th>1</th>\n",
       "      <th>2</th>\n",
       "      <th>3</th>\n",
       "    </tr>\n",
       "  </thead>\n",
       "  <tbody>\n",
       "    <tr>\n",
       "      <th>0</th>\n",
       "      <td>CheXpert-v1.0-small/train</td>\n",
       "      <td>patient00001</td>\n",
       "      <td>study1</td>\n",
       "      <td>view1_frontal.jpg</td>\n",
       "    </tr>\n",
       "    <tr>\n",
       "      <th>1</th>\n",
       "      <td>CheXpert-v1.0-small/train</td>\n",
       "      <td>patient00002</td>\n",
       "      <td>study2</td>\n",
       "      <td>view1_frontal.jpg</td>\n",
       "    </tr>\n",
       "    <tr>\n",
       "      <th>2</th>\n",
       "      <td>CheXpert-v1.0-small/train</td>\n",
       "      <td>patient00002</td>\n",
       "      <td>study1</td>\n",
       "      <td>view1_frontal.jpg</td>\n",
       "    </tr>\n",
       "    <tr>\n",
       "      <th>3</th>\n",
       "      <td>CheXpert-v1.0-small/train</td>\n",
       "      <td>patient00002</td>\n",
       "      <td>study1</td>\n",
       "      <td>view2_lateral.jpg</td>\n",
       "    </tr>\n",
       "    <tr>\n",
       "      <th>4</th>\n",
       "      <td>CheXpert-v1.0-small/train</td>\n",
       "      <td>patient00003</td>\n",
       "      <td>study1</td>\n",
       "      <td>view1_frontal.jpg</td>\n",
       "    </tr>\n",
       "  </tbody>\n",
       "</table>\n",
       "</div>"
      ],
      "text/plain": [
       "                           0             1       2                  3\n",
       "0  CheXpert-v1.0-small/train  patient00001  study1  view1_frontal.jpg\n",
       "1  CheXpert-v1.0-small/train  patient00002  study2  view1_frontal.jpg\n",
       "2  CheXpert-v1.0-small/train  patient00002  study1  view1_frontal.jpg\n",
       "3  CheXpert-v1.0-small/train  patient00002  study1  view2_lateral.jpg\n",
       "4  CheXpert-v1.0-small/train  patient00003  study1  view1_frontal.jpg"
      ]
     },
     "execution_count": 2,
     "metadata": {},
     "output_type": "execute_result"
    }
   ],
   "source": [
    "## Number of unique patients in train set\n",
    "s = trainDF['Path']\n",
    "x =(s.str.rsplit('/', 3, expand = True))\n",
    "x.head()\n",
    "#len(x[1].unique())"
   ]
  },
  {
   "cell_type": "code",
   "execution_count": 3,
   "metadata": {},
   "outputs": [],
   "source": [
    "# #removing frontal image entries\n",
    "# indexFrontal = trainDF[trainDF['Frontal/Lateral'] == 'Frontal' ].index\n",
    "# trainDF = trainDF.drop(indexFrontal)"
   ]
  },
  {
   "cell_type": "code",
   "execution_count": 4,
   "metadata": {},
   "outputs": [
    {
     "data": {
      "text/plain": [
       "32387"
      ]
     },
     "execution_count": 4,
     "metadata": {},
     "output_type": "execute_result"
    }
   ],
   "source": [
    "# Total number of lateral files.\n",
    "trainDF[trainDF['Frontal/Lateral'] == 'Lateral']['Path'].count()"
   ]
  },
  {
   "cell_type": "code",
   "execution_count": 5,
   "metadata": {},
   "outputs": [],
   "source": [
    "#32387 lateral\n",
    "#33151 frontal lateral pairs generated\n",
    "# IDEA: \n",
    "# Loop over trainDF as f,\n",
    "#      if f is lateral:\n",
    "#          get folder path of f and\n",
    "#          if it is in list 'visited', continue\n",
    "#          else add filder to list visited\n",
    "#          and copy file to other location (as lateral.jpg), add to newDF\n",
    "#          check for other files (this will be frontal), copy and add to newDF."
   ]
  },
  {
   "cell_type": "code",
   "execution_count": 79,
   "metadata": {},
   "outputs": [
    {
     "data": {
      "application/vnd.jupyter.widget-view+json": {
       "model_id": "52735881488844648ff80c9774424608",
       "version_major": 2,
       "version_minor": 0
      },
      "text/plain": [
       "HBox(children=(FloatProgress(value=1.0, bar_style='info', max=1.0), HTML(value='')))"
      ]
     },
     "metadata": {},
     "output_type": "display_data"
    },
    {
     "name": "stdout",
     "output_type": "stream",
     "text": [
      "\n"
     ]
    }
   ],
   "source": [
    "from shutil import copyfile\n",
    "import glob\n",
    "import os\n",
    "from tqdm.notebook import trange, tqdm\n",
    "tqdm.pandas()\n",
    "\n",
    "from pathlib import Path\n",
    "from shutil import copyfile\n",
    "\n",
    "newDataDF = pd.DataFrame(columns = ['Path', 'No_Finding', 'Atelectasis', 'Cardiomegaly', 'Consolidation', 'Edema', 'Pleural_Effusion'])\n",
    "\n",
    "src_directory = \"\"\n",
    "dest_directory = \"pair-wise/\"\n",
    "visitedList = []\n",
    "l = []\n",
    "for index, row in tqdm(trainDF.iterrows()):\n",
    "    if row[\"Frontal/Lateral\"] == 'Lateral':\n",
    "        s = row['Path']\n",
    "        x =(s.rsplit('/', 1))\n",
    "        \n",
    "        '''check if folder already visited'''\n",
    "        if x[0] in visitedList: #x[0] is the folder name, x[1] has the file name.\n",
    "            continue\n",
    "        else:\n",
    "            visitedList.append(x[0])\n",
    "        \n",
    "        '''filesinFolder: list of all jpg files in current folder'''\n",
    "        filesinFolder = glob.glob(os.path.join(x[0], '*.jpg')) \n",
    "        \n",
    "#         #Print folders with single lateral files\n",
    "#         if len(filesinFolder) == 1:\n",
    "#             print(filesinFolder)\n",
    "\n",
    "        '''Continue if there is 1 file in current folder.'''\n",
    "        if len(filesinFolder) == 1:\n",
    "            continue\n",
    "            \n",
    "        '''Check if all images in folder are of same type. Continue, if so.'''\n",
    "        f_l = []\n",
    "        for f in filesinFolder:\n",
    "            f_l.append((trainDF[trainDF['Path'] == f]['Frontal/Lateral']).item())\n",
    "        # Continue if items in f_l are all same, i.e., all 'frontal' or all 'lateral'. \n",
    "        if f_l.count(f_l[0]) == len(f_l):\n",
    "            #print(filesinFolder[0])\n",
    "            continue\n",
    "        \n",
    "#         #Check how many files files are in each folder\n",
    "#         if len(filesinFolder) not in l:\n",
    "#             l.append(len(filesinFolder))\n",
    "#             print(\"Added: \", len(filesinFolder), \"at index \",index,\"\\n\")\n",
    "        \n",
    "        '''Transfer files to new folder, and create new dataframe.'''\n",
    "        # Case 1: Folder has 1 lateral and 1 frontal images.\n",
    "        if len(filesinFolder) == 2:\n",
    "            # Create one folder.\n",
    "            temp = row['Path'].rsplit('/', 3) #temp list to store loc, patientID, studyNo, filename\n",
    "            new_name = temp[1]+'-'+temp[2]\n",
    "            curr_dest = Path(os.path.join(dest_directory, new_name))\n",
    "            (curr_dest).mkdir(parents=True, exist_ok=True)\n",
    "            #Copy files.\n",
    "            for f1 in filesinFolder: # OR loop over f_l to get file name.\n",
    "                dest_file = os.path.join(curr_dest, ((trainDF[trainDF[\"Path\"] == f1]['Frontal/Lateral']).item() + \".jpg\"))\n",
    "                copyfile(f1, dest_file)\n",
    "            #Update new dataframe\n",
    "            # Loc: curr_dest, Diseases: trainDF[trainDF[\"Path\"] == filesinFolder[0]][\"MANIFESTATIONS\"]\n",
    "            dict_curr_dest = {\n",
    "                              \"Path\": curr_dest,\n",
    "                              \"No_Finding\": trainDF[trainDF[\"Path\"] == filesinFolder[0]][\"No Finding\"].item(),\n",
    "                              \"Atelectasis\": trainDF[trainDF[\"Path\"] == filesinFolder[0]][\"Atelectasis\"].item(),\n",
    "                              \"Cardiomegaly\": trainDF[trainDF[\"Path\"] == filesinFolder[0]][\"Cardiomegaly\"].item(),\n",
    "                              \"Consolidation\": trainDF[trainDF[\"Path\"] == filesinFolder[0]][\"Consolidation\"].item(),\n",
    "                              \"Edema\": trainDF[trainDF[\"Path\"] == filesinFolder[0]][\"Edema\"].item(),\n",
    "                              \"Pleural_Effusion\": trainDF[trainDF[\"Path\"] == filesinFolder[0]][\"Pleural Effusion\"].item(),\n",
    "                            }\n",
    "\n",
    "            newDataDF = newDataDF.append(dict_curr_dest, ignore_index=True)\n",
    "            \n",
    "        elif len(filesinFolder) == 3:\n",
    "            # Case 2: Folder has 2 Lateral, 1 frontal images.\n",
    "            if f_l.count(\"Lateral\") == 2:\n",
    "                \n",
    "                idx_frontal = f_l.index(\"Frontal\")\n",
    "                #print(\"idx_frontal\", idx_frontal)\n",
    "                idx_lateral = [0, 1, 2]\n",
    "                idx_lateral.remove(idx_frontal)\n",
    "                #print(\"idx_lateral\", idx_lateral)\n",
    "                for i in idx_lateral:\n",
    "                    #Create folder, with suffix \"-i\"\n",
    "                    temp = row['Path'].rsplit('/', 3) #temp list to store loc, patientID, studyNo, filename\n",
    "                    new_name = temp[1]+'-'+temp[2]+'-L-'+str(i)\n",
    "                    curr_dest = Path(os.path.join(dest_directory, new_name))\n",
    "                    (curr_dest).mkdir(parents=True, exist_ok=True)\n",
    "                    #Copy files.\n",
    "                    dest_file_f = os.path.join(curr_dest, \"Frontal.jpg\")\n",
    "                    copyfile(filesinFolder[idx_frontal], dest_file_f)\n",
    "                    dest_file_l = os.path.join(curr_dest, \"Lateral.jpg\")\n",
    "                    copyfile(filesinFolder[i], dest_file_l)\n",
    "                    #ToDo: Update dataframe\n",
    "                    # Loc: curr_dest, Diseases: trainDF[trainDF[\"Path\"] == filesinFolder[i]][\"MANIFESTATIONS\"]\n",
    "                    dict_curr_dest = {\n",
    "                                      \"Path\": curr_dest,\n",
    "                                      \"No_Finding\": trainDF[trainDF[\"Path\"] == filesinFolder[i]][\"No Finding\"].item(),\n",
    "                                      \"Atelectasis\": trainDF[trainDF[\"Path\"] == filesinFolder[i]][\"Atelectasis\"].item(),\n",
    "                                      \"Cardiomegaly\": trainDF[trainDF[\"Path\"] == filesinFolder[i]][\"Cardiomegaly\"].item(),\n",
    "                                      \"Consolidation\": trainDF[trainDF[\"Path\"] == filesinFolder[i]][\"Consolidation\"].item(),\n",
    "                                      \"Edema\": trainDF[trainDF[\"Path\"] == filesinFolder[i]][\"Edema\"].item(),\n",
    "                                      \"Pleural_Effusion\": trainDF[trainDF[\"Path\"] == filesinFolder[i]][\"Pleural Effusion\"].item(),\n",
    "                                    }\n",
    "                    \n",
    "                    newDataDF = newDataDF.append(dict_curr_dest, ignore_index=True)\n",
    "                    \n",
    "            # Case 3: Folder has 1 Lateral, 2 frontal images.\n",
    "            elif f_l.count(\"Frontal\") == 2:\n",
    "                idx_lateral = f_l.index(\"Lateral\")\n",
    "                idx_frontal = [0, 1, 2]\n",
    "                idx_frontal.remove(idx_lateral)\n",
    "                for i in idx_frontal:\n",
    "                    #Create folder, with suffix \"-i\"\n",
    "                    temp = row['Path'].rsplit('/', 3) #temp list to store loc, patientID, studyNo, filename\n",
    "                    new_name = temp[1]+'-'+temp[2]+'-F-'+str(i)\n",
    "                    curr_dest = Path(os.path.join(dest_directory, new_name))\n",
    "                    (curr_dest).mkdir(parents=True, exist_ok=True)\n",
    "                    #Copy files.\n",
    "                    dest_file_l = os.path.join(curr_dest, \"Lateral.jpg\")\n",
    "                    copyfile(filesinFolder[idx_lateral], dest_file_l)\n",
    "                    dest_file_f = os.path.join(curr_dest, \"Frontal.jpg\")\n",
    "                    copyfile(filesinFolder[i], dest_file_f)\n",
    "                    #Update dataframe\n",
    "                    # Loc: curr_dest, Diseases: trainDF[trainDF[\"Path\"] == filesinFolder[i]][\"MANIFESTATIONS\"]\n",
    "                    dict_curr_dest = {\n",
    "                                      \"Path\": curr_dest,\n",
    "                                      \"No_Finding\": trainDF[trainDF[\"Path\"] == filesinFolder[i]][\"No Finding\"].item(),\n",
    "                                      \"Atelectasis\": trainDF[trainDF[\"Path\"] == filesinFolder[i]][\"Atelectasis\"].item(),\n",
    "                                      \"Cardiomegaly\": trainDF[trainDF[\"Path\"] == filesinFolder[i]][\"Cardiomegaly\"].item(),\n",
    "                                      \"Consolidation\": trainDF[trainDF[\"Path\"] == filesinFolder[i]][\"Consolidation\"].item(),\n",
    "                                      \"Edema\": trainDF[trainDF[\"Path\"] == filesinFolder[i]][\"Edema\"].item(),\n",
    "                                      \"Pleural_Effusion\": trainDF[trainDF[\"Path\"] == filesinFolder[i]][\"Pleural Effusion\"].item(),\n",
    "                                    }\n",
    "                    \n",
    "                    newDataDF = newDataDF.append(dict_curr_dest, ignore_index=True)\n",
    "                    \n",
    "        \n",
    "    #src_file = row['Path']\n",
    "    #dest_file = dest_directory + \"/\" + row['new_filename']\n",
    "\n",
    "    #copyfile(src_file, dest_file)"
   ]
  },
  {
   "cell_type": "code",
   "execution_count": 80,
   "metadata": {},
   "outputs": [
    {
     "data": {
      "text/html": [
       "<div>\n",
       "<style scoped>\n",
       "    .dataframe tbody tr th:only-of-type {\n",
       "        vertical-align: middle;\n",
       "    }\n",
       "\n",
       "    .dataframe tbody tr th {\n",
       "        vertical-align: top;\n",
       "    }\n",
       "\n",
       "    .dataframe thead th {\n",
       "        text-align: right;\n",
       "    }\n",
       "</style>\n",
       "<table border=\"1\" class=\"dataframe\">\n",
       "  <thead>\n",
       "    <tr style=\"text-align: right;\">\n",
       "      <th></th>\n",
       "      <th>Path</th>\n",
       "      <th>No_Finding</th>\n",
       "      <th>Atelectasis</th>\n",
       "      <th>Cardiomegaly</th>\n",
       "      <th>Consolidation</th>\n",
       "      <th>Edema</th>\n",
       "      <th>Pleural_Effusion</th>\n",
       "    </tr>\n",
       "  </thead>\n",
       "  <tbody>\n",
       "    <tr>\n",
       "      <th>0</th>\n",
       "      <td>pair-wise/patient00002-study1</td>\n",
       "      <td>0.0</td>\n",
       "      <td>0.0</td>\n",
       "      <td>0.0</td>\n",
       "      <td>-1.0</td>\n",
       "      <td>0.0</td>\n",
       "      <td>0.0</td>\n",
       "    </tr>\n",
       "    <tr>\n",
       "      <th>1</th>\n",
       "      <td>pair-wise/patient00004-study1</td>\n",
       "      <td>1.0</td>\n",
       "      <td>0.0</td>\n",
       "      <td>0.0</td>\n",
       "      <td>0.0</td>\n",
       "      <td>0.0</td>\n",
       "      <td>0.0</td>\n",
       "    </tr>\n",
       "    <tr>\n",
       "      <th>2</th>\n",
       "      <td>pair-wise/patient00005-study1</td>\n",
       "      <td>1.0</td>\n",
       "      <td>0.0</td>\n",
       "      <td>0.0</td>\n",
       "      <td>0.0</td>\n",
       "      <td>0.0</td>\n",
       "      <td>0.0</td>\n",
       "    </tr>\n",
       "    <tr>\n",
       "      <th>3</th>\n",
       "      <td>pair-wise/patient00009-study1</td>\n",
       "      <td>0.0</td>\n",
       "      <td>1.0</td>\n",
       "      <td>1.0</td>\n",
       "      <td>0.0</td>\n",
       "      <td>0.0</td>\n",
       "      <td>0.0</td>\n",
       "    </tr>\n",
       "    <tr>\n",
       "      <th>4</th>\n",
       "      <td>pair-wise/patient00010-study1</td>\n",
       "      <td>1.0</td>\n",
       "      <td>0.0</td>\n",
       "      <td>0.0</td>\n",
       "      <td>0.0</td>\n",
       "      <td>0.0</td>\n",
       "      <td>0.0</td>\n",
       "    </tr>\n",
       "    <tr>\n",
       "      <th>...</th>\n",
       "      <td>...</td>\n",
       "      <td>...</td>\n",
       "      <td>...</td>\n",
       "      <td>...</td>\n",
       "      <td>...</td>\n",
       "      <td>...</td>\n",
       "      <td>...</td>\n",
       "    </tr>\n",
       "    <tr>\n",
       "      <th>33146</th>\n",
       "      <td>pair-wise/patient60704-study1-L-0</td>\n",
       "      <td>0.0</td>\n",
       "      <td>0.0</td>\n",
       "      <td>-1.0</td>\n",
       "      <td>0.0</td>\n",
       "      <td>0.0</td>\n",
       "      <td>0.0</td>\n",
       "    </tr>\n",
       "    <tr>\n",
       "      <th>33147</th>\n",
       "      <td>pair-wise/patient60704-study1-L-2</td>\n",
       "      <td>0.0</td>\n",
       "      <td>0.0</td>\n",
       "      <td>-1.0</td>\n",
       "      <td>0.0</td>\n",
       "      <td>0.0</td>\n",
       "      <td>0.0</td>\n",
       "    </tr>\n",
       "    <tr>\n",
       "      <th>33148</th>\n",
       "      <td>pair-wise/patient60706-study1</td>\n",
       "      <td>0.0</td>\n",
       "      <td>0.0</td>\n",
       "      <td>1.0</td>\n",
       "      <td>0.0</td>\n",
       "      <td>0.0</td>\n",
       "      <td>0.0</td>\n",
       "    </tr>\n",
       "    <tr>\n",
       "      <th>33149</th>\n",
       "      <td>pair-wise/patient60707-study1</td>\n",
       "      <td>0.0</td>\n",
       "      <td>0.0</td>\n",
       "      <td>1.0</td>\n",
       "      <td>0.0</td>\n",
       "      <td>0.0</td>\n",
       "      <td>0.0</td>\n",
       "    </tr>\n",
       "    <tr>\n",
       "      <th>33150</th>\n",
       "      <td>pair-wise/patient60708-study1</td>\n",
       "      <td>0.0</td>\n",
       "      <td>1.0</td>\n",
       "      <td>-1.0</td>\n",
       "      <td>0.0</td>\n",
       "      <td>0.0</td>\n",
       "      <td>0.0</td>\n",
       "    </tr>\n",
       "  </tbody>\n",
       "</table>\n",
       "<p>33151 rows × 7 columns</p>\n",
       "</div>"
      ],
      "text/plain": [
       "                                    Path No_Finding Atelectasis Cardiomegaly  \\\n",
       "0          pair-wise/patient00002-study1        0.0         0.0          0.0   \n",
       "1          pair-wise/patient00004-study1        1.0         0.0          0.0   \n",
       "2          pair-wise/patient00005-study1        1.0         0.0          0.0   \n",
       "3          pair-wise/patient00009-study1        0.0         1.0          1.0   \n",
       "4          pair-wise/patient00010-study1        1.0         0.0          0.0   \n",
       "...                                  ...        ...         ...          ...   \n",
       "33146  pair-wise/patient60704-study1-L-0        0.0         0.0         -1.0   \n",
       "33147  pair-wise/patient60704-study1-L-2        0.0         0.0         -1.0   \n",
       "33148      pair-wise/patient60706-study1        0.0         0.0          1.0   \n",
       "33149      pair-wise/patient60707-study1        0.0         0.0          1.0   \n",
       "33150      pair-wise/patient60708-study1        0.0         1.0         -1.0   \n",
       "\n",
       "      Consolidation Edema Pleural_Effusion  \n",
       "0              -1.0   0.0              0.0  \n",
       "1               0.0   0.0              0.0  \n",
       "2               0.0   0.0              0.0  \n",
       "3               0.0   0.0              0.0  \n",
       "4               0.0   0.0              0.0  \n",
       "...             ...   ...              ...  \n",
       "33146           0.0   0.0              0.0  \n",
       "33147           0.0   0.0              0.0  \n",
       "33148           0.0   0.0              0.0  \n",
       "33149           0.0   0.0              0.0  \n",
       "33150           0.0   0.0              0.0  \n",
       "\n",
       "[33151 rows x 7 columns]"
      ]
     },
     "execution_count": 80,
     "metadata": {},
     "output_type": "execute_result"
    }
   ],
   "source": [
    "newDataDF"
   ]
  },
  {
   "cell_type": "code",
   "execution_count": 81,
   "metadata": {},
   "outputs": [
    {
     "data": {
      "text/html": [
       "<div>\n",
       "<style scoped>\n",
       "    .dataframe tbody tr th:only-of-type {\n",
       "        vertical-align: middle;\n",
       "    }\n",
       "\n",
       "    .dataframe tbody tr th {\n",
       "        vertical-align: top;\n",
       "    }\n",
       "\n",
       "    .dataframe thead th {\n",
       "        text-align: right;\n",
       "    }\n",
       "</style>\n",
       "<table border=\"1\" class=\"dataframe\">\n",
       "  <thead>\n",
       "    <tr style=\"text-align: right;\">\n",
       "      <th></th>\n",
       "      <th>Path</th>\n",
       "      <th>No_Finding</th>\n",
       "      <th>Atelectasis</th>\n",
       "      <th>Cardiomegaly</th>\n",
       "      <th>Consolidation</th>\n",
       "      <th>Edema</th>\n",
       "      <th>Pleural_Effusion</th>\n",
       "    </tr>\n",
       "  </thead>\n",
       "  <tbody>\n",
       "    <tr>\n",
       "      <th>count</th>\n",
       "      <td>33151</td>\n",
       "      <td>33151</td>\n",
       "      <td>33151</td>\n",
       "      <td>33151</td>\n",
       "      <td>33151</td>\n",
       "      <td>33151</td>\n",
       "      <td>33151</td>\n",
       "    </tr>\n",
       "    <tr>\n",
       "      <th>unique</th>\n",
       "      <td>33151</td>\n",
       "      <td>2</td>\n",
       "      <td>3</td>\n",
       "      <td>3</td>\n",
       "      <td>3</td>\n",
       "      <td>3</td>\n",
       "      <td>3</td>\n",
       "    </tr>\n",
       "    <tr>\n",
       "      <th>top</th>\n",
       "      <td>pair-wise/patient11270-study17</td>\n",
       "      <td>0.0</td>\n",
       "      <td>0.0</td>\n",
       "      <td>0.0</td>\n",
       "      <td>0.0</td>\n",
       "      <td>0.0</td>\n",
       "      <td>0.0</td>\n",
       "    </tr>\n",
       "    <tr>\n",
       "      <th>freq</th>\n",
       "      <td>1</td>\n",
       "      <td>27625</td>\n",
       "      <td>25456</td>\n",
       "      <td>28049</td>\n",
       "      <td>27870</td>\n",
       "      <td>29341</td>\n",
       "      <td>21520</td>\n",
       "    </tr>\n",
       "  </tbody>\n",
       "</table>\n",
       "</div>"
      ],
      "text/plain": [
       "                                  Path No_Finding Atelectasis Cardiomegaly  \\\n",
       "count                            33151      33151       33151        33151   \n",
       "unique                           33151          2           3            3   \n",
       "top     pair-wise/patient11270-study17        0.0         0.0          0.0   \n",
       "freq                                 1      27625       25456        28049   \n",
       "\n",
       "       Consolidation  Edema Pleural_Effusion  \n",
       "count          33151  33151            33151  \n",
       "unique             3      3                3  \n",
       "top              0.0    0.0              0.0  \n",
       "freq           27870  29341            21520  "
      ]
     },
     "execution_count": 81,
     "metadata": {},
     "output_type": "execute_result"
    }
   ],
   "source": [
    "newDataDF.describe()"
   ]
  },
  {
   "cell_type": "code",
   "execution_count": 82,
   "metadata": {},
   "outputs": [],
   "source": [
    "newDataDF.to_csv(\"pair-wise.csv\", index=False)"
   ]
  },
  {
   "cell_type": "code",
   "execution_count": 51,
   "metadata": {},
   "outputs": [
    {
     "name": "stdout",
     "output_type": "stream",
     "text": [
      "None\n"
     ]
    }
   ],
   "source": [
    "\n",
    "dest_directory = \"pair-wise/\"\n",
    "from pathlib import Path\n",
    "curr_dest = Path(os.path.join(dest_directory, 'my/dir2'))\n",
    "print((curr_dest).mkdir(parents=True, exist_ok=True))"
   ]
  },
  {
   "cell_type": "code",
   "execution_count": 30,
   "metadata": {},
   "outputs": [
    {
     "data": {
      "text/plain": [
       "[]"
      ]
     },
     "execution_count": 30,
     "metadata": {},
     "output_type": "execute_result"
    }
   ],
   "source": [
    "# List index of list with value 3.\n",
    "lx = [i for i, j in enumerate(l) if j == 3]\n",
    "# from collections import Counter\n",
    "# Counter(l)\n",
    "lx"
   ]
  },
  {
   "cell_type": "code",
   "execution_count": 36,
   "metadata": {},
   "outputs": [
    {
     "data": {
      "text/plain": [
       "'CheXpert-v1.0-small/train/patient00183/study3/view1_frontal.jpg'"
      ]
     },
     "execution_count": 36,
     "metadata": {},
     "output_type": "execute_result"
    }
   ],
   "source": [
    "trainDF.iloc[762]['Path']"
   ]
  },
  {
   "cell_type": "code",
   "execution_count": 8,
   "metadata": {},
   "outputs": [
    {
     "data": {
      "text/plain": [
       "422    Frontal\n",
       "Name: Frontal/Lateral, dtype: object"
      ]
     },
     "execution_count": 8,
     "metadata": {},
     "output_type": "execute_result"
    }
   ],
   "source": [
    "trainDF[trainDF['Path']=='CheXpert-v1.0-small/train/patient00117/study1/view2_frontal.jpg']['Frontal/Lateral']"
   ]
  },
  {
   "cell_type": "code",
   "execution_count": 34,
   "metadata": {},
   "outputs": [
    {
     "name": "stdout",
     "output_type": "stream",
     "text": [
      "CheXpert-v1.0-small/train/patient00001/study1/view1_frontal.jpg\n"
     ]
    }
   ],
   "source": [
    "import glob\n",
    "d = trainDF['Path'][0]\n",
    "print(d)\n",
    "\n",
    "for file in glob.glob(d+'/*.*'):\n",
    "    print(file)"
   ]
  },
  {
   "cell_type": "code",
   "execution_count": 1,
   "metadata": {},
   "outputs": [
    {
     "ename": "NameError",
     "evalue": "name 'newDataDF' is not defined",
     "output_type": "error",
     "traceback": [
      "\u001b[0;31m---------------------------------------------------------------------------\u001b[0m",
      "\u001b[0;31mNameError\u001b[0m                                 Traceback (most recent call last)",
      "\u001b[0;32m<ipython-input-1-d6ac2ea88483>\u001b[0m in \u001b[0;36m<module>\u001b[0;34m\u001b[0m\n\u001b[0;32m----> 1\u001b[0;31m \u001b[0mnewDataDF\u001b[0m\u001b[0;34m.\u001b[0m\u001b[0mdescribe\u001b[0m\u001b[0;34m(\u001b[0m\u001b[0;34m)\u001b[0m\u001b[0;34m\u001b[0m\u001b[0;34m\u001b[0m\u001b[0m\n\u001b[0m",
      "\u001b[0;31mNameError\u001b[0m: name 'newDataDF' is not defined"
     ]
    }
   ],
   "source": [
    "newDataDF.describe()"
   ]
  },
  {
   "cell_type": "code",
   "execution_count": null,
   "metadata": {},
   "outputs": [],
   "source": []
  }
 ],
 "metadata": {
  "kernelspec": {
   "display_name": "Python 3",
   "language": "python",
   "name": "python3"
  },
  "language_info": {
   "codemirror_mode": {
    "name": "ipython",
    "version": 3
   },
   "file_extension": ".py",
   "mimetype": "text/x-python",
   "name": "python",
   "nbconvert_exporter": "python",
   "pygments_lexer": "ipython3",
   "version": "3.7.3"
  }
 },
 "nbformat": 4,
 "nbformat_minor": 4
}
